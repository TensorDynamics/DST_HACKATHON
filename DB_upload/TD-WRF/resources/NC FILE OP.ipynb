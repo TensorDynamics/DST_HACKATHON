{
 "cells": [
  {
   "cell_type": "code",
   "execution_count": 1,
   "id": "b1345c8d",
   "metadata": {},
   "outputs": [
    {
     "ename": "ModuleNotFoundError",
     "evalue": "No module named 'funcs.grib_support'",
     "output_type": "error",
     "traceback": [
      "\u001b[0;31m---------------------------------------------------------------------------\u001b[0m",
      "\u001b[0;31mModuleNotFoundError\u001b[0m                       Traceback (most recent call last)",
      "Input \u001b[0;32mIn [1]\u001b[0m, in \u001b[0;36m<module>\u001b[0;34m\u001b[0m\n\u001b[1;32m      9\u001b[0m \u001b[38;5;28;01mfrom\u001b[39;00m \u001b[38;5;21;01mconfigs\u001b[39;00m \u001b[38;5;28;01mimport\u001b[39;00m path_config, db_config\n\u001b[1;32m     10\u001b[0m \u001b[38;5;28;01mfrom\u001b[39;00m \u001b[38;5;21;01mfuncs\u001b[39;00m \u001b[38;5;28;01mimport\u001b[39;00m data_io, db_io, nc_ops\n\u001b[0;32m---> 11\u001b[0m \u001b[38;5;28;01mfrom\u001b[39;00m \u001b[38;5;21;01mfuncs\u001b[39;00m\u001b[38;5;21;01m.\u001b[39;00m\u001b[38;5;21;01mgrib_support\u001b[39;00m \u001b[38;5;28;01mimport\u001b[39;00m calc_haversine_dist\n",
      "\u001b[0;31mModuleNotFoundError\u001b[0m: No module named 'funcs.grib_support'"
     ]
    }
   ],
   "source": [
    "import os\n",
    "import pandas as pd\n",
    "import datetime\n",
    "import numpy as np\n",
    "import netCDF4 as nc\n",
    "import xarray as xr\n",
    "from tqdm import tqdm\n",
    "\n",
    "from configs import path_config, db_config\n",
    "from funcs import data_io, db_io, nc_ops\n",
    "from funcs.grib_support import calc_haversine_dist"
   ]
  },
  {
   "cell_type": "code",
   "execution_count": null,
   "id": "c17c76d0",
   "metadata": {},
   "outputs": [],
   "source": [
    "def read_data_from_nc(nc_file_path, location_dict):\n",
    "    \n",
    "    # OPEN XARAY\n",
    "    ds = xr.open_dataset(nc_file_path)\n",
    "\n",
    "    # XARRAY DF\n",
    "    xarray_df = ds.to_dataframe().reset_index(drop=False)\n",
    "\n",
    "    # GET AVAIL LOCS\n",
    "    locations_dict_nc = get_closest_nc_distances(locations_dict=location_dict, \n",
    "                                                 xarray_df=xarray_df)\n",
    "\n",
    "    file_df = pd.DataFrame()\n",
    "\n",
    "    for location_name, location_meta in locations_dict_nc.items():\n",
    "        \n",
    "        actual_site_loc = location_meta['SITE']\n",
    "        nc_site_loc = location_meta['NC']\n",
    "\n",
    "        try:\n",
    "            loc_df = xarray_df[(xarray_df['XLAT'] == nc_site_loc[0]) & \n",
    "                              (xarray_df['XLONG'] == nc_site_loc[1])].copy().reset_index(drop=True)\n",
    "            loc_df['site_name'] = location_name\n",
    "            loc_df['site_lat'] = actual_site_loc[0]\n",
    "            loc_df['site_lon'] = actual_site_loc[0]\n",
    "\n",
    "        except Exception as e:\n",
    "            print(location, e)\n",
    "\n",
    "        finally:\n",
    "            file_df = pd.concat([file_df, loc_df], axis=0)\n",
    "    \n",
    "    # OUTPUT FORMAT\n",
    "    file_df.drop(['x', 'y'], axis=1, inplace=True)\n",
    "\n",
    "    #file_df.set_index('Times', inplace=True)\n",
    "    return file_df, locations_dict_nc"
   ]
  },
  {
   "cell_type": "code",
   "execution_count": null,
   "id": "880de9a8",
   "metadata": {},
   "outputs": [],
   "source": [
    "def get_closest_nc_distances(locations_dict, xarray_df):\n",
    "\n",
    "    lat_lon_df = xarray_df[['XLAT', 'XLONG']].drop_duplicates().reset_index(drop=True).copy()\n",
    "    avail_lats = lat_lon_df['XLAT'].values\n",
    "    avail_lons = lat_lon_df['XLONG'].values\n",
    "    output_dict = {}\n",
    "\n",
    "    for location in locations:\n",
    "        site_actual_location = locations[location]\n",
    "        distances = {}\n",
    "        for t1, n1 in zip(avail_lats, avail_lons):\n",
    "            dist = calc_haversine_dist(loc1=site_actual_location,\n",
    "                                       loc2=(t1, n1))\n",
    "            distances[(t1, n1)] = dist\n",
    "        min_dist_at = min(distances, key=distances.get)\n",
    "        output_dict[location] = {'NC': min_dist_at, 'SITE': site_actual_location}\n",
    "    return output_dict"
   ]
  },
  {
   "cell_type": "code",
   "execution_count": 14,
   "id": "1ab61a4b",
   "metadata": {},
   "outputs": [],
   "source": [
    "def make_timelike_from_float (timefloats):\n",
    "    timepoints = []\n",
    "    for timeval in timefloats:\n",
    "        timeval += 5/24 + 30/(60*24) #IST\n",
    "        year, timeval = int (timeval // 10000), timeval % 10000\n",
    "        month, timeval = int (timeval // 100), timeval % 100\n",
    "        day, timeval = int (timeval // 1), timeval % 1\n",
    "        timeval = round (timeval *3600 * 24)\n",
    "        hour, timeval = int (timeval // 3600), timeval % 3600\n",
    "        minute, timeval = int (timeval // 60), timeval % 60\n",
    "        second = int (timeval)\n",
    "        timepoints.append(\"{:02d}-{:02d}-{:04d} {:02d}:{:02d}:{:02d}\".format(day, month, year, hour, minute, second))\n",
    "    \n",
    "    timepoints = [datetime.datetime.strptime(t, '%d-%m-%Y %H:%M:%S') for t in timepoints]\n",
    "    return timepoints"
   ]
  },
  {
   "cell_type": "code",
   "execution_count": 2,
   "id": "953465fb",
   "metadata": {},
   "outputs": [],
   "source": [
    "locations = data_io.get_locations_by_type(filedir=path_config.resources_path,\n",
    "                                          filename='site_locations.csv')"
   ]
  },
  {
   "cell_type": "code",
   "execution_count": 4,
   "id": "40686d48",
   "metadata": {},
   "outputs": [
    {
     "name": "stderr",
     "output_type": "stream",
     "text": [
      "100%|████████████████████████████████████████████████████████████████████████████████████████████████████████████████████████████████████████████████████████████████████████████████████████████████████████████████████████████████████████████████████████████████████████████████████████████████████████████████████████████████| 5/5 [01:41<00:00, 20.33s/it]\n"
     ]
    }
   ],
   "source": [
    "# MAIN\n",
    "nc_data = {}\n",
    "\n",
    "folders_in_wrf = sorted([fold for fold in os.listdir(path_config.data_path) if \n",
    "                         os.path.isdir(os.path.join(path_config.data_path, fold))])\n",
    "\n",
    "for date_folder in tqdm(folders_in_wrf):\n",
    "    # GET DATE FOLDER IN WRF FOLDER\n",
    "    fold_path = os.path.join(path_config.data_path, date_folder)\n",
    "\n",
    "    # GET FILES IN DATE FOLDER\n",
    "    files_in_fold = sorted([file for file in os.listdir(fold_path) \n",
    "                            if \n",
    "                            os.path.isfile(os.path.join(fold_path, file)) \n",
    "                            and 'd' not in file \n",
    "                            and '.DS' not in file])\n",
    "\n",
    "    # LOOP OVER ALL FILES IN FOLDER\n",
    "    for file in (files_in_fold):\n",
    "        file_path = os.path.join(fold_path, file)\n",
    "        file_date = file.split('.nc')[0]\n",
    "        file_data, loc_dict_nc = nc_ops.read_data_from_nc(nc_file_path=file_path,\n",
    "                                                   location_dict=locations)\n",
    "        file_data = file_data.reset_index(drop=True)\n",
    "        file_data['file_date'] = file.split('.nc')[0]\n",
    "        file_data['folder_date'] = date_folder\n",
    "        \n",
    "        nc_data[file_date] = file_data"
   ]
  },
  {
   "cell_type": "code",
   "execution_count": 5,
   "id": "4b413d75",
   "metadata": {
    "scrolled": false
   },
   "outputs": [],
   "source": [
    "nc_df = pd.DataFrame()\n",
    "for init_date in sorted(list(nc_data.keys())):\n",
    "    dat = nc_data[init_date].copy()\n",
    "    nc_df = pd.concat([nc_df, dat], axis=0)"
   ]
  },
  {
   "cell_type": "code",
   "execution_count": 6,
   "id": "ba3cd585",
   "metadata": {},
   "outputs": [],
   "source": [
    "nc_df = nc_df.sort_values(by=['folder_date', 'file_date', 'site_name', 'Times'],\n",
    "                         ascending=True).reset_index(drop=True)"
   ]
  },
  {
   "cell_type": "code",
   "execution_count": 7,
   "id": "a058933e",
   "metadata": {},
   "outputs": [
    {
     "data": {
      "text/plain": [
       "(32172, 18)"
      ]
     },
     "execution_count": 7,
     "metadata": {},
     "output_type": "execute_result"
    }
   ],
   "source": [
    "nc_df.shape"
   ]
  },
  {
   "cell_type": "code",
   "execution_count": 8,
   "id": "87508471",
   "metadata": {},
   "outputs": [],
   "source": [
    "nc_df = nc_df.drop_duplicates(subset=['Times' ,'site_name'], keep='last')"
   ]
  },
  {
   "cell_type": "code",
   "execution_count": 10,
   "id": "2e99a6df",
   "metadata": {},
   "outputs": [
    {
     "data": {
      "text/plain": [
       "(12660, 18)"
      ]
     },
     "execution_count": 10,
     "metadata": {},
     "output_type": "execute_result"
    }
   ],
   "source": [
    "nc_df.shape"
   ]
  },
  {
   "cell_type": "code",
   "execution_count": 11,
   "id": "49c0f5a7",
   "metadata": {},
   "outputs": [],
   "source": [
    "nc_df.columns = db_io.remove_special_chars_from_df_names(data_frame=nc_df)"
   ]
  },
  {
   "cell_type": "code",
   "execution_count": 16,
   "id": "adf85306",
   "metadata": {},
   "outputs": [
    {
     "name": "stdout",
     "output_type": "stream",
     "text": [
      "Appending data (12660 rows) -> DB table -> td_wrf.td_wrf_stg.\n",
      "Successfully appended data (12660 rows)  ->  DB table -> td_wrf.td_wrf_stg\n"
     ]
    }
   ],
   "source": [
    "# db_io.append_data_to_table(data=nc_df, db_url=db_io.tensor_aws_db1_url(), \n",
    "#                            table_name='td_wrf_stg', schema=db_config.wrf_schema)"
   ]
  },
  {
   "cell_type": "code",
   "execution_count": null,
   "id": "065ca9b0",
   "metadata": {},
   "outputs": [],
   "source": []
  },
  {
   "cell_type": "code",
   "execution_count": 11,
   "id": "6c7ff88a",
   "metadata": {},
   "outputs": [],
   "source": [
    "db_connection = db_io.create_db_connection(dbname=db_config.dbname,\n",
    "                                     host=db_config.host,\n",
    "                                     port=db_config.port,\n",
    "                                     user=db_config.user,\n",
    "                                     password=db_config.password)"
   ]
  },
  {
   "cell_type": "code",
   "execution_count": 12,
   "id": "a12a0dae",
   "metadata": {
    "scrolled": true
   },
   "outputs": [
    {
     "data": {
      "text/plain": [
       "{'Sadla': ['2022-01-13',\n",
       "  '2022-01-15',\n",
       "  '2022-01-17',\n",
       "  '2022-01-12',\n",
       "  '2022-01-16',\n",
       "  '2022-01-18',\n",
       "  '2022-01-14'],\n",
       " 'Bitta': ['2022-01-13',\n",
       "  '2022-01-12',\n",
       "  '2022-01-18',\n",
       "  '2022-01-15',\n",
       "  '2022-01-17',\n",
       "  '2022-01-16',\n",
       "  '2022-01-14'],\n",
       " 'Lahori': ['2022-01-14',\n",
       "  '2022-01-17',\n",
       "  '2022-01-12',\n",
       "  '2022-01-15',\n",
       "  '2022-01-18',\n",
       "  '2022-01-13',\n",
       "  '2022-01-16'],\n",
       " 'SITE4': ['2022-01-12',\n",
       "  '2022-01-13',\n",
       "  '2022-01-18',\n",
       "  '2022-01-14',\n",
       "  '2022-01-15',\n",
       "  '2022-01-17',\n",
       "  '2022-01-16'],\n",
       " 'Kanasar': ['2022-01-13',\n",
       "  '2022-01-18',\n",
       "  '2022-01-16',\n",
       "  '2022-01-12',\n",
       "  '2022-01-17',\n",
       "  '2022-01-14',\n",
       "  '2022-01-15'],\n",
       " 'SECI-1': ['2022-01-18',\n",
       "  '2022-01-13',\n",
       "  '2022-01-15',\n",
       "  '2022-01-12',\n",
       "  '2022-01-14',\n",
       "  '2022-01-16',\n",
       "  '2022-01-17'],\n",
       " 'MSEDCL': ['2022-01-13',\n",
       "  '2022-01-18',\n",
       "  '2022-01-15',\n",
       "  '2022-01-16',\n",
       "  '2022-01-14',\n",
       "  '2022-01-17',\n",
       "  '2022-01-12'],\n",
       " 'SITE2': ['2022-01-18',\n",
       "  '2022-01-15',\n",
       "  '2022-01-13',\n",
       "  '2022-01-12',\n",
       "  '2022-01-14',\n",
       "  '2022-01-17',\n",
       "  '2022-01-16'],\n",
       " 'SITE3': ['2022-01-15',\n",
       "  '2022-01-14',\n",
       "  '2022-01-12',\n",
       "  '2022-01-17',\n",
       "  '2022-01-13',\n",
       "  '2022-01-16',\n",
       "  '2022-01-18'],\n",
       " 'NJV_Delhi': ['2022-01-17',\n",
       "  '2022-01-15',\n",
       "  '2022-01-13',\n",
       "  '2022-01-18',\n",
       "  '2022-01-16',\n",
       "  '2022-01-12',\n",
       "  '2022-01-14'],\n",
       " 'Jhansi': ['2022-01-16',\n",
       "  '2022-01-12',\n",
       "  '2022-01-13',\n",
       "  '2022-01-15',\n",
       "  '2022-01-14',\n",
       "  '2022-01-17',\n",
       "  '2022-01-18'],\n",
       " 'SITE1': ['2022-01-18',\n",
       "  '2022-01-14',\n",
       "  '2022-01-17',\n",
       "  '2022-01-15',\n",
       "  '2022-01-16',\n",
       "  '2022-01-12',\n",
       "  '2022-01-13']}"
      ]
     },
     "execution_count": 12,
     "metadata": {},
     "output_type": "execute_result"
    }
   ],
   "source": [
    "db_io.get_site_files_map(con=db_connection, \n",
    "                         table_name=db_config.wrf_stg_table,\n",
    "                         schema=db_config.wrf_schema)"
   ]
  },
  {
   "cell_type": "code",
   "execution_count": 3,
   "id": "cb89d0cd",
   "metadata": {},
   "outputs": [],
   "source": [
    "####"
   ]
  },
  {
   "cell_type": "code",
   "execution_count": 1,
   "id": "8ece0206",
   "metadata": {},
   "outputs": [],
   "source": [
    "import os\n",
    "import pandas as pd\n",
    "from funcs.data_io import get_locations_by_type\n",
    "from funcs.db_io import create_db_connection\n",
    "from funcs import db_io\n",
    "from funcs import nc_ops\n",
    "from configs import db_config\n",
    "from configs import path_config"
   ]
  },
  {
   "cell_type": "code",
   "execution_count": 2,
   "id": "0ef66253",
   "metadata": {},
   "outputs": [],
   "source": [
    "read_paths = []\n",
    "for path in os.listdir(path_config.data_path):\n",
    "    path_def = os.path.join(path_config.data_path, path)\n",
    "    if os.path.isdir(path_def):\n",
    "        read_paths.append(path_def)"
   ]
  },
  {
   "cell_type": "code",
   "execution_count": 3,
   "id": "76df2d81",
   "metadata": {},
   "outputs": [],
   "source": [
    "requested_locs = get_locations_by_type(filedir=path_config.resources_path,\n",
    "                                           filename='site_locations.csv')"
   ]
  },
  {
   "cell_type": "code",
   "execution_count": 8,
   "id": "2f401b2d",
   "metadata": {},
   "outputs": [
    {
     "data": {
      "text/plain": [
       "{'Lahori': (23.37, 76.25),\n",
       " 'Sadla': (22.7308, 71.3685),\n",
       " 'MSEDCL': (23.63123778, 69.01812444),\n",
       " 'Kanasar': (27.482418, 72.093802),\n",
       " 'Jhansi': (25.36943, 78.30572),\n",
       " 'Bitta': (23.28, 69.08),\n",
       " 'NJV_Delhi': (28.5335, 77.1996),\n",
       " 'SECI-1': (23.5099, 69.1298),\n",
       " 'SITE1': (16.450472, 77.866028),\n",
       " 'SITE2': (16.376111, 74.773611),\n",
       " 'SITE3': (23.921321, 71.186291),\n",
       " 'SITE4': (24.142247, 71.280255)}"
      ]
     },
     "execution_count": 8,
     "metadata": {},
     "output_type": "execute_result"
    }
   ],
   "source": [
    "requested_locs"
   ]
  },
  {
   "cell_type": "code",
   "execution_count": 4,
   "id": "fd61f9a2",
   "metadata": {},
   "outputs": [],
   "source": [
    "data_frame = pd.DataFrame()\n",
    "\n",
    "for p in read_paths[:1]:\n",
    "    dat = nc_ops.read_nc_from_folder(folder_path=p, location_dict=requested_locs)\n",
    "    data_frame = pd.concat([dat, data_frame], axis=0)"
   ]
  },
  {
   "cell_type": "code",
   "execution_count": 7,
   "id": "b7eaf813",
   "metadata": {},
   "outputs": [
    {
     "data": {
      "text/plain": [
       "array([[Timestamp('2022-01-16 01:45:00'), 20220115.84375],\n",
       "       [Timestamp('2022-01-16 01:30:00'), 20220115.833333332],\n",
       "       [Timestamp('2022-01-16 01:15:00'), 20220115.822916668],\n",
       "       ...,\n",
       "       [Timestamp('2022-01-19 00:30:00'), 20220118.791666668],\n",
       "       [Timestamp('2022-01-22 22:45:00'), 20220122.71875],\n",
       "       [Timestamp('2022-01-22 23:30:00'), 20220122.75]], dtype=object)"
      ]
     },
     "execution_count": 7,
     "metadata": {},
     "output_type": "execute_result"
    }
   ],
   "source": [
    "data_frame[['Times_time', 'Times']].values"
   ]
  },
  {
   "cell_type": "code",
   "execution_count": 8,
   "id": "8c6f000e",
   "metadata": {},
   "outputs": [],
   "source": [
    "df = data_frame.sort_values(by='init_date', ascending=True)\n",
    "df = df.drop_duplicates(subset=['Times', 'site_name'], keep='last').reset_index(drop=True)"
   ]
  },
  {
   "cell_type": "code",
   "execution_count": 9,
   "id": "971b85d7",
   "metadata": {},
   "outputs": [],
   "source": [
    "db_connection = create_db_connection(dbname=db_config.dbname,\n",
    "                                         host=db_config.host,\n",
    "                                         port=db_config.port,\n",
    "                                         user=db_config.user,\n",
    "                                         password=db_config.password)"
   ]
  },
  {
   "cell_type": "code",
   "execution_count": 10,
   "id": "d1b529b8",
   "metadata": {},
   "outputs": [],
   "source": [
    "df.columns = db_io.remove_special_chars_from_df_names(data_frame=df)"
   ]
  },
  {
   "cell_type": "code",
   "execution_count": 11,
   "id": "b838767c",
   "metadata": {},
   "outputs": [
    {
     "name": "stdout",
     "output_type": "stream",
     "text": [
      "Appending data (12660 rows) -> DB table -> td_wrf.td_wrf_stg.\n",
      "Successfully appended data (12660 rows)  ->  DB table -> td_wrf.td_wrf_stg\n"
     ]
    }
   ],
   "source": [
    "db_io.append_data_to_table(data=df, db_url=db_io.tensor_aws_db1_url(),\n",
    "                           table_name=db_config.wrf_stg_table,\n",
    "                           schema=db_config.wrf_schema,\n",
    "                           verbose=True, logger_obj=None)"
   ]
  },
  {
   "cell_type": "code",
   "execution_count": null,
   "id": "20fbbcb0",
   "metadata": {},
   "outputs": [],
   "source": []
  },
  {
   "cell_type": "code",
   "execution_count": null,
   "id": "426e4471",
   "metadata": {},
   "outputs": [],
   "source": []
  },
  {
   "cell_type": "code",
   "execution_count": null,
   "id": "61cce638",
   "metadata": {},
   "outputs": [],
   "source": []
  }
 ],
 "metadata": {
  "kernelspec": {
   "display_name": "Python 3 (ipykernel)",
   "language": "python",
   "name": "python3"
  },
  "language_info": {
   "codemirror_mode": {
    "name": "ipython",
    "version": 3
   },
   "file_extension": ".py",
   "mimetype": "text/x-python",
   "name": "python",
   "nbconvert_exporter": "python",
   "pygments_lexer": "ipython3",
   "version": "3.10.0"
  }
 },
 "nbformat": 4,
 "nbformat_minor": 5
}
